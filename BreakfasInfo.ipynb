{
 "cells": [
  {
   "cell_type": "code",
   "execution_count": 149,
   "id": "0461c7bf",
   "metadata": {},
   "outputs": [
    {
     "name": "stdout",
     "output_type": "stream",
     "text": [
      "{'temp': 26, 'date': '08/09/2022', 'forecast': [{'date': '08/09', 'max': 30, 'min': 15}, {'date': '09/09', 'max': 33, 'min': 18}]}\n"
     ]
    }
   ],
   "source": [
    "# obter previsao do tempo\n",
    "import requests\n",
    "# Chave = 1e6cdd6e\"\n",
    "previsao_tempo = \"https://api.hgbrasil.com/weather?array_limit=2&fields=only_results,temp,woeid=449648,forecast,max,min,date&key=1e6cdd6e\"\n",
    "requisicao1 = requests.get(previsao_tempo)\n",
    "print(requisicao1.json())"
   ]
  },
  {
   "cell_type": "code",
   "execution_count": 150,
   "id": "e7cc848e",
   "metadata": {},
   "outputs": [
    {
     "name": "stdout",
     "output_type": "stream",
     "text": [
      "{'USDBRL': {'code': 'USD', 'codein': 'BRL', 'name': 'Dólar Americano/Real Brasileiro', 'high': '5.2171', 'low': '5.2146', 'varBid': '0.0004', 'pctChange': '0.01', 'bid': '5.2141', 'ask': '5.215', 'timestamp': '1662672961', 'create_date': '2022-09-08 18:36:01'}, 'EURBRL': {'code': 'EUR', 'codein': 'BRL', 'name': 'Euro/Real Brasileiro', 'high': '5.2141', 'low': '5.2115', 'varBid': '0.0011', 'pctChange': '0.02', 'bid': '5.2131', 'ask': '5.215', 'timestamp': '1662672961', 'create_date': '2022-09-08 18:36:01'}, 'BTCBRL': {'code': 'BTC', 'codein': 'BRL', 'name': 'Bitcoin/Real Brasileiro', 'high': '102.23', 'low': '99.589', 'varBid': '-676', 'pctChange': '-0.66', 'bid': '101.077', 'ask': '101.094', 'timestamp': '1662671564', 'create_date': '2022-09-08 18:12:44'}}\n"
     ]
    }
   ],
   "source": [
    "# obter cotacao do dolar\n",
    "cotacao = \"https://economia.awesomeapi.com.br/json/last/USD-BRL,EUR-BRL,BTC-BRL\"\n",
    "requisicao2 = requests.get(cotacao)\n",
    "print(requisicao2.json())"
   ]
  },
  {
   "cell_type": "code",
   "execution_count": 151,
   "id": "aef894c5",
   "metadata": {},
   "outputs": [],
   "source": [
    "# enviar email diario com as infos acima"
   ]
  },
  {
   "cell_type": "code",
   "execution_count": 152,
   "id": "d9751ba3",
   "metadata": {},
   "outputs": [],
   "source": [
    "import smtplib\n",
    "import email.message\n",
    "\n",
    "def enviar_email():  \n",
    "    corpo_email = f\"\"\"\n",
    "    <p>Bom dia!</p>\n",
    "    <p>A previsao do tempo para hoje é a seguinte:</p>\n",
    "    <p>{requisicao1.json()}</p>\n",
    "    <p>A cotacao do dolar, Euro e Bitcoin é:</p>\n",
    "    <p>{requisicao2.json()}</p>\n",
    "    <p>Tenha um bom dia!</p>\n",
    "    <p>Att, \n",
    "    Kelisson (da ©UifalusiTech)</p>\n",
    "    \"\"\"\n",
    "\n",
    "    msg = email.message.Message()\n",
    "    msg['Subject'] = \"Informações do dia pra você\"\n",
    "    msg['From'] = 'kelisson.rodrigues7@gmail.com'\n",
    "    msg['To'] = 'kelisson.rodrigues7@gmail.com'\n",
    "    password = 'opvonkzbllccigsq' #sua senha do gmail (a mesma do email remetente)\n",
    "    msg.add_header('Content-Type', 'text/html')\n",
    "    msg.set_payload(corpo_email )\n",
    "\n",
    "    s = smtplib.SMTP('smtp.gmail.com: 587')\n",
    "    s.starttls()\n",
    "    # Login Credentials for sending the mail\n",
    "    s.login(msg['From'], password)\n",
    "    s.sendmail(msg['From'], [msg['To']], msg.as_string().encode('utf-8'))\n",
    "    print('Email enviado')"
   ]
  },
  {
   "cell_type": "code",
   "execution_count": 153,
   "id": "6761ae78",
   "metadata": {},
   "outputs": [
    {
     "name": "stdout",
     "output_type": "stream",
     "text": [
      "Email enviado\n"
     ]
    }
   ],
   "source": [
    "enviar_email()"
   ]
  },
  {
   "cell_type": "code",
   "execution_count": null,
   "id": "ce619adf",
   "metadata": {},
   "outputs": [],
   "source": [
    "# Agendar envio diario de emails com as infos acima com agendador de tarefas do Windows"
   ]
  }
 ],
 "metadata": {
  "kernelspec": {
   "display_name": "Python 3 (ipykernel)",
   "language": "python",
   "name": "python3"
  },
  "language_info": {
   "codemirror_mode": {
    "name": "ipython",
    "version": 3
   },
   "file_extension": ".py",
   "mimetype": "text/x-python",
   "name": "python",
   "nbconvert_exporter": "python",
   "pygments_lexer": "ipython3",
   "version": "3.9.12"
  }
 },
 "nbformat": 4,
 "nbformat_minor": 5
}
